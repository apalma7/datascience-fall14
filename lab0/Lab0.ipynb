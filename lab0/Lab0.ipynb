{
 "metadata": {
  "name": ""
 },
 "nbformat": 3,
 "nbformat_minor": 0,
 "worksheets": [
  {
   "cells": [
    {
     "cell_type": "code",
     "collapsed": false,
     "input": [
      "%matplotlib inline\n",
      "\n",
      "import matplotlib.pyplot as plt\n",
      "import pandas as pd"
     ],
     "language": "python",
     "metadata": {},
     "outputs": [],
     "prompt_number": 1
    },
    {
     "cell_type": "code",
     "collapsed": false,
     "input": [
      "data = pd.read_csv('crime_incidents_2013_CSV.csv', parse_dates=['START_DATE'])"
     ],
     "language": "python",
     "metadata": {},
     "outputs": [],
     "prompt_number": 2
    },
    {
     "cell_type": "code",
     "collapsed": false,
     "input": [
      "data.dtypes"
     ],
     "language": "python",
     "metadata": {},
     "outputs": [
      {
       "metadata": {},
       "output_type": "pyout",
       "prompt_number": 3,
       "text": [
        "CCN                                     int64\n",
        "REPORTDATETIME                         object\n",
        "SHIFT                                  object\n",
        "OFFENSE                                object\n",
        "METHOD                                 object\n",
        "LASTMODIFIEDDATE                       object\n",
        "BLOCKSITEADDRESS                       object\n",
        "BLOCKXCOORD                           float64\n",
        "BLOCKYCOORD                           float64\n",
        "WARD                                  float64\n",
        "ANC                                    object\n",
        "DISTRICT                               object\n",
        "PSA                                    object\n",
        "NEIGHBORHOODCLUSTER                   float64\n",
        "BUSINESSIMPROVEMENTDISTRICT            object\n",
        "BLOCK_GROUP                            object\n",
        "CENSUS_TRACT                          float64\n",
        "VOTING_PRECINCT                        object\n",
        "START_DATE                     datetime64[ns]\n",
        "END_DATE                               object\n",
        "dtype: object"
       ]
      }
     ],
     "prompt_number": 3
    },
    {
     "cell_type": "code",
     "collapsed": false,
     "input": [
      "week_day = pd.DataFrame({ 'week_day': [i.weekday() for i in data['START_DATE']] })\n",
      "wd_group = week_day.groupby('week_day')\n",
      "plt.bar(range(8), wd_group['week_day'].count())"
     ],
     "language": "python",
     "metadata": {},
     "outputs": [
      {
       "metadata": {},
       "output_type": "pyout",
       "prompt_number": 4,
       "text": [
        "<Container object of 8 artists>"
       ]
      },
      {
       "metadata": {},
       "output_type": "display_data",
       "png": "[encoded data removed]",
       "text": [
        "<matplotlib.figure.Figure at 0xafbf8bcc>"
       ]
      }
     ],
     "prompt_number": 4
    },
    {
     "cell_type": "code",
     "collapsed": false,
     "input": [],
     "language": "python",
     "metadata": {},
     "outputs": []
    }
   ],
   "metadata": {}
  }
 ]
}